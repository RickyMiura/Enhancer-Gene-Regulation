{
 "cells": [
  {
   "cell_type": "markdown",
   "metadata": {},
   "source": [
    "## Imports and Setup"
   ]
  },
  {
   "cell_type": "code",
   "execution_count": 1,
   "metadata": {},
   "outputs": [],
   "source": [
    "import pandas as pd \n",
    "import numpy as np"
   ]
  },
  {
   "cell_type": "code",
   "execution_count": 2,
   "metadata": {},
   "outputs": [],
   "source": [
    "raw_x = pd.read_csv(\"data/X_train.csv\")\n",
    "raw_y = pd.read_csv(\"data/y_train.csv\")"
   ]
  },
  {
   "cell_type": "code",
   "execution_count": 3,
   "metadata": {},
   "outputs": [],
   "source": [
    "raw_data = raw_x.copy()\n",
    "raw_data[\"Regulated\"] = raw_y[\"Regulated\"]"
   ]
  },
  {
   "cell_type": "code",
   "execution_count": 4,
   "metadata": {
    "scrolled": true
   },
   "outputs": [
    {
     "data": {
      "text/html": [
       "<div>\n",
       "<style scoped>\n",
       "    .dataframe tbody tr th:only-of-type {\n",
       "        vertical-align: middle;\n",
       "    }\n",
       "\n",
       "    .dataframe tbody tr th {\n",
       "        vertical-align: top;\n",
       "    }\n",
       "\n",
       "    .dataframe thead th {\n",
       "        text-align: right;\n",
       "    }\n",
       "</style>\n",
       "<table border=\"1\" class=\"dataframe\">\n",
       "  <thead>\n",
       "    <tr style=\"text-align: right;\">\n",
       "      <th></th>\n",
       "      <th>chr</th>\n",
       "      <th>start</th>\n",
       "      <th>end</th>\n",
       "      <th>name</th>\n",
       "      <th>chrTSS</th>\n",
       "      <th>startTSS</th>\n",
       "      <th>endTSS</th>\n",
       "      <th>TargetGene</th>\n",
       "      <th>ReferenceID</th>\n",
       "      <th>CellType</th>\n",
       "      <th>...</th>\n",
       "      <th>normalizedDNase_enh</th>\n",
       "      <th>normalizedDNase_prom</th>\n",
       "      <th>numNearbyEnhancers</th>\n",
       "      <th>sumNearbyEnhancers</th>\n",
       "      <th>ubiquitousExpressedGene</th>\n",
       "      <th>3DContact</th>\n",
       "      <th>3DContact_squared</th>\n",
       "      <th>normalizedDNase_enh_squared</th>\n",
       "      <th>ABC.Score</th>\n",
       "      <th>Regulated</th>\n",
       "    </tr>\n",
       "  </thead>\n",
       "  <tbody>\n",
       "    <tr>\n",
       "      <th>0</th>\n",
       "      <td>chr8</td>\n",
       "      <td>60284882</td>\n",
       "      <td>60285382</td>\n",
       "      <td>CA8|chr8:61197441-61197941:.</td>\n",
       "      <td>chr8</td>\n",
       "      <td>60281411.0</td>\n",
       "      <td>60281412.0</td>\n",
       "      <td>CA8</td>\n",
       "      <td>2f957f7a</td>\n",
       "      <td>K562</td>\n",
       "      <td>...</td>\n",
       "      <td>9.255186</td>\n",
       "      <td>0.691692</td>\n",
       "      <td>46</td>\n",
       "      <td>215.634522</td>\n",
       "      <td>0</td>\n",
       "      <td>11482.332360</td>\n",
       "      <td>1.318440e+08</td>\n",
       "      <td>85.658468</td>\n",
       "      <td>0.229877</td>\n",
       "      <td>True</td>\n",
       "    </tr>\n",
       "    <tr>\n",
       "      <th>1</th>\n",
       "      <td>chr9</td>\n",
       "      <td>99075179</td>\n",
       "      <td>99075797</td>\n",
       "      <td>TGFBR1|chr9:101837461-101838079:.</td>\n",
       "      <td>chr9</td>\n",
       "      <td>99104038.0</td>\n",
       "      <td>99104039.0</td>\n",
       "      <td>TGFBR1</td>\n",
       "      <td>2f957f7a</td>\n",
       "      <td>K562</td>\n",
       "      <td>...</td>\n",
       "      <td>18.483246</td>\n",
       "      <td>0.798897</td>\n",
       "      <td>98</td>\n",
       "      <td>1196.610723</td>\n",
       "      <td>0</td>\n",
       "      <td>1833.345234</td>\n",
       "      <td>3.361155e+06</td>\n",
       "      <td>341.630383</td>\n",
       "      <td>0.044430</td>\n",
       "      <td>True</td>\n",
       "    </tr>\n",
       "    <tr>\n",
       "      <th>2</th>\n",
       "      <td>chr7</td>\n",
       "      <td>134639833</td>\n",
       "      <td>134640333</td>\n",
       "      <td>BPGM|chr7:134324585-134325085:.</td>\n",
       "      <td>chr7</td>\n",
       "      <td>134646808.0</td>\n",
       "      <td>134646809.0</td>\n",
       "      <td>BPGM</td>\n",
       "      <td>2f957f7a</td>\n",
       "      <td>K562</td>\n",
       "      <td>...</td>\n",
       "      <td>6.521952</td>\n",
       "      <td>0.992838</td>\n",
       "      <td>48</td>\n",
       "      <td>65.289744</td>\n",
       "      <td>0</td>\n",
       "      <td>10744.950360</td>\n",
       "      <td>1.154540e+08</td>\n",
       "      <td>42.535858</td>\n",
       "      <td>0.053048</td>\n",
       "      <td>True</td>\n",
       "    </tr>\n",
       "    <tr>\n",
       "      <th>3</th>\n",
       "      <td>chr10</td>\n",
       "      <td>5472235</td>\n",
       "      <td>5472735</td>\n",
       "      <td>NET1|chr10:5514198-5514698:.</td>\n",
       "      <td>chr10</td>\n",
       "      <td>5412551.0</td>\n",
       "      <td>5412552.0</td>\n",
       "      <td>NET1</td>\n",
       "      <td>2f957f7a</td>\n",
       "      <td>K562</td>\n",
       "      <td>...</td>\n",
       "      <td>2.925616</td>\n",
       "      <td>0.755541</td>\n",
       "      <td>33</td>\n",
       "      <td>94.653009</td>\n",
       "      <td>0</td>\n",
       "      <td>1419.128316</td>\n",
       "      <td>2.013925e+06</td>\n",
       "      <td>8.559229</td>\n",
       "      <td>0.004903</td>\n",
       "      <td>True</td>\n",
       "    </tr>\n",
       "    <tr>\n",
       "      <th>4</th>\n",
       "      <td>chr4</td>\n",
       "      <td>55723369</td>\n",
       "      <td>55723869</td>\n",
       "      <td>NMU|chr4:56589536-56590036:.</td>\n",
       "      <td>chr4</td>\n",
       "      <td>55636697.0</td>\n",
       "      <td>55636698.0</td>\n",
       "      <td>NMU</td>\n",
       "      <td>2f957f7a</td>\n",
       "      <td>K562</td>\n",
       "      <td>...</td>\n",
       "      <td>0.979523</td>\n",
       "      <td>0.598229</td>\n",
       "      <td>29</td>\n",
       "      <td>21.614425</td>\n",
       "      <td>0</td>\n",
       "      <td>793.318224</td>\n",
       "      <td>6.293538e+05</td>\n",
       "      <td>0.959465</td>\n",
       "      <td>0.001483</td>\n",
       "      <td>True</td>\n",
       "    </tr>\n",
       "  </tbody>\n",
       "</table>\n",
       "<p>5 rows × 31 columns</p>\n",
       "</div>"
      ],
      "text/plain": [
       "     chr      start        end                               name chrTSS  \\\n",
       "0   chr8   60284882   60285382       CA8|chr8:61197441-61197941:.   chr8   \n",
       "1   chr9   99075179   99075797  TGFBR1|chr9:101837461-101838079:.   chr9   \n",
       "2   chr7  134639833  134640333    BPGM|chr7:134324585-134325085:.   chr7   \n",
       "3  chr10    5472235    5472735       NET1|chr10:5514198-5514698:.  chr10   \n",
       "4   chr4   55723369   55723869       NMU|chr4:56589536-56590036:.   chr4   \n",
       "\n",
       "      startTSS       endTSS TargetGene ReferenceID CellType  ...  \\\n",
       "0   60281411.0   60281412.0        CA8    2f957f7a     K562  ...   \n",
       "1   99104038.0   99104039.0     TGFBR1    2f957f7a     K562  ...   \n",
       "2  134646808.0  134646809.0       BPGM    2f957f7a     K562  ...   \n",
       "3    5412551.0    5412552.0       NET1    2f957f7a     K562  ...   \n",
       "4   55636697.0   55636698.0        NMU    2f957f7a     K562  ...   \n",
       "\n",
       "   normalizedDNase_enh  normalizedDNase_prom  numNearbyEnhancers  \\\n",
       "0             9.255186              0.691692                  46   \n",
       "1            18.483246              0.798897                  98   \n",
       "2             6.521952              0.992838                  48   \n",
       "3             2.925616              0.755541                  33   \n",
       "4             0.979523              0.598229                  29   \n",
       "\n",
       "   sumNearbyEnhancers  ubiquitousExpressedGene     3DContact  \\\n",
       "0          215.634522                        0  11482.332360   \n",
       "1         1196.610723                        0   1833.345234   \n",
       "2           65.289744                        0  10744.950360   \n",
       "3           94.653009                        0   1419.128316   \n",
       "4           21.614425                        0    793.318224   \n",
       "\n",
       "   3DContact_squared  normalizedDNase_enh_squared  ABC.Score  Regulated  \n",
       "0       1.318440e+08                    85.658468   0.229877       True  \n",
       "1       3.361155e+06                   341.630383   0.044430       True  \n",
       "2       1.154540e+08                    42.535858   0.053048       True  \n",
       "3       2.013925e+06                     8.559229   0.004903       True  \n",
       "4       6.293538e+05                     0.959465   0.001483       True  \n",
       "\n",
       "[5 rows x 31 columns]"
      ]
     },
     "execution_count": 4,
     "metadata": {},
     "output_type": "execute_result"
    }
   ],
   "source": [
    "#data is initially split it x and y, combine it into one df for cleaning\n",
    "raw_data.head(5)"
   ]
  },
  {
   "cell_type": "markdown",
   "metadata": {},
   "source": [
    "## Data Cleaning"
   ]
  },
  {
   "cell_type": "code",
   "execution_count": 5,
   "metadata": {
    "scrolled": true
   },
   "outputs": [
    {
     "data": {
      "text/plain": [
       "chr                               0\n",
       "start                             0\n",
       "end                               0\n",
       "name                              0\n",
       "chrTSS                            0\n",
       "startTSS                         70\n",
       "endTSS                           70\n",
       "TargetGene                        0\n",
       "ReferenceID                       0\n",
       "CellType                          0\n",
       "EffectSize                        0\n",
       "pValueAdjusted                   15\n",
       "Significant                       0\n",
       "PowerAtEffectSize25               6\n",
       "PowerAtEffectSize10            2896\n",
       "PowerAtEffectSize15            2896\n",
       "PowerAtEffectSize20            2896\n",
       "PowerAtEffectSize50            2896\n",
       "distanceToTSS                     0\n",
       "numTSSEnhGene                     0\n",
       "numCandidateEnhGene               0\n",
       "normalizedDNase_enh               0\n",
       "normalizedDNase_prom              0\n",
       "numNearbyEnhancers                0\n",
       "sumNearbyEnhancers                0\n",
       "ubiquitousExpressedGene           0\n",
       "3DContact                         0\n",
       "3DContact_squared                 0\n",
       "normalizedDNase_enh_squared       0\n",
       "ABC.Score                         0\n",
       "Regulated                         0\n",
       "dtype: int64"
      ]
     },
     "execution_count": 5,
     "metadata": {},
     "output_type": "execute_result"
    }
   ],
   "source": [
    "#check each columb for missing values\n",
    "raw_data.isna().sum()\n",
    "#when checking which class the missing values belong too, almost all of them belong to the regulated == False category\n",
    "#this indicates that they could be features with high importance"
   ]
  },
  {
   "cell_type": "code",
   "execution_count": 6,
   "metadata": {},
   "outputs": [
    {
     "data": {
      "text/plain": [
       "chr                             0\n",
       "start                           0\n",
       "end                             0\n",
       "name                            0\n",
       "chrTSS                          0\n",
       "startTSS                        0\n",
       "endTSS                          0\n",
       "TargetGene                      0\n",
       "ReferenceID                     0\n",
       "CellType                        0\n",
       "EffectSize                      0\n",
       "pValueAdjusted                 14\n",
       "Significant                     0\n",
       "PowerAtEffectSize25             6\n",
       "PowerAtEffectSize10            71\n",
       "PowerAtEffectSize15            71\n",
       "PowerAtEffectSize20            71\n",
       "PowerAtEffectSize50            71\n",
       "distanceToTSS                   0\n",
       "numTSSEnhGene                   0\n",
       "numCandidateEnhGene             0\n",
       "normalizedDNase_enh             0\n",
       "normalizedDNase_prom            0\n",
       "numNearbyEnhancers              0\n",
       "sumNearbyEnhancers              0\n",
       "ubiquitousExpressedGene         0\n",
       "3DContact                       0\n",
       "3DContact_squared               0\n",
       "normalizedDNase_enh_squared     0\n",
       "ABC.Score                       0\n",
       "Regulated                       0\n",
       "dtype: int64"
      ]
     },
     "execution_count": 6,
     "metadata": {},
     "output_type": "execute_result"
    }
   ],
   "source": [
    "#Checking for the prescence of missing values in \"Regulated\" = True\n",
    "raw_data[raw_data[\"Regulated\"]==True].isna().sum()"
   ]
  },
  {
   "cell_type": "code",
   "execution_count": 7,
   "metadata": {
    "scrolled": true
   },
   "outputs": [
    {
     "data": {
      "text/plain": [
       "chr                               0\n",
       "start                             0\n",
       "end                               0\n",
       "name                              0\n",
       "chrTSS                            0\n",
       "startTSS                         70\n",
       "endTSS                           70\n",
       "TargetGene                        0\n",
       "ReferenceID                       0\n",
       "CellType                          0\n",
       "EffectSize                        0\n",
       "pValueAdjusted                    1\n",
       "Significant                       0\n",
       "PowerAtEffectSize25               0\n",
       "PowerAtEffectSize10            2825\n",
       "PowerAtEffectSize15            2825\n",
       "PowerAtEffectSize20            2825\n",
       "PowerAtEffectSize50            2825\n",
       "distanceToTSS                     0\n",
       "numTSSEnhGene                     0\n",
       "numCandidateEnhGene               0\n",
       "normalizedDNase_enh               0\n",
       "normalizedDNase_prom              0\n",
       "numNearbyEnhancers                0\n",
       "sumNearbyEnhancers                0\n",
       "ubiquitousExpressedGene           0\n",
       "3DContact                         0\n",
       "3DContact_squared                 0\n",
       "normalizedDNase_enh_squared       0\n",
       "ABC.Score                         0\n",
       "Regulated                         0\n",
       "dtype: int64"
      ]
     },
     "execution_count": 7,
     "metadata": {},
     "output_type": "execute_result"
    }
   ],
   "source": [
    "#Checking for the prescence of missing values in \"Regulated\" = False\n",
    "raw_data[raw_data[\"Regulated\"]==False].isna().sum()"
   ]
  },
  {
   "cell_type": "code",
   "execution_count": 8,
   "metadata": {},
   "outputs": [],
   "source": [
    "#based off this we are taking the deicison to drop columns missing startTSS, endTSS and pValueAdjusted\n",
    "raw_data= raw_data.dropna(subset=['startTSS', 'endTSS', 'pValueAdjusted'])"
   ]
  },
  {
   "cell_type": "code",
   "execution_count": 9,
   "metadata": {},
   "outputs": [],
   "source": [
    "# according to the compeition write up the PowerAtEffectSize__ Columns 15-19\n",
    "#were \"used to filter the dataset and are most likely not relevant\", hence we will drop those columns\n",
    "raw_data_cleaned = raw_data.drop(columns=[\"PowerAtEffectSize10\",'PowerAtEffectSize25', 'PowerAtEffectSize15', 'PowerAtEffectSize20', 'PowerAtEffectSize50'])"
   ]
  },
  {
   "cell_type": "markdown",
   "metadata": {},
   "source": [
    "## Feature Engineering"
   ]
  },
  {
   "cell_type": "code",
   "execution_count": 10,
   "metadata": {
    "scrolled": true
   },
   "outputs": [
    {
     "data": {
      "text/html": [
       "<div>\n",
       "<style scoped>\n",
       "    .dataframe tbody tr th:only-of-type {\n",
       "        vertical-align: middle;\n",
       "    }\n",
       "\n",
       "    .dataframe tbody tr th {\n",
       "        vertical-align: top;\n",
       "    }\n",
       "\n",
       "    .dataframe thead th {\n",
       "        text-align: right;\n",
       "    }\n",
       "</style>\n",
       "<table border=\"1\" class=\"dataframe\">\n",
       "  <thead>\n",
       "    <tr style=\"text-align: right;\">\n",
       "      <th></th>\n",
       "      <th>chr</th>\n",
       "      <th>start</th>\n",
       "      <th>end</th>\n",
       "      <th>name</th>\n",
       "      <th>chrTSS</th>\n",
       "      <th>startTSS</th>\n",
       "      <th>endTSS</th>\n",
       "      <th>TargetGene</th>\n",
       "      <th>ReferenceID</th>\n",
       "      <th>CellType</th>\n",
       "      <th>...</th>\n",
       "      <th>normalizedDNase_enh</th>\n",
       "      <th>normalizedDNase_prom</th>\n",
       "      <th>numNearbyEnhancers</th>\n",
       "      <th>sumNearbyEnhancers</th>\n",
       "      <th>ubiquitousExpressedGene</th>\n",
       "      <th>3DContact</th>\n",
       "      <th>3DContact_squared</th>\n",
       "      <th>normalizedDNase_enh_squared</th>\n",
       "      <th>ABC.Score</th>\n",
       "      <th>Regulated</th>\n",
       "    </tr>\n",
       "  </thead>\n",
       "  <tbody>\n",
       "    <tr>\n",
       "      <th>0</th>\n",
       "      <td>chr8</td>\n",
       "      <td>60284882</td>\n",
       "      <td>60285382</td>\n",
       "      <td>CA8|chr8:61197441-61197941:.</td>\n",
       "      <td>chr8</td>\n",
       "      <td>60281411.0</td>\n",
       "      <td>60281412.0</td>\n",
       "      <td>CA8</td>\n",
       "      <td>2f957f7a</td>\n",
       "      <td>K562</td>\n",
       "      <td>...</td>\n",
       "      <td>9.255186</td>\n",
       "      <td>0.691692</td>\n",
       "      <td>46</td>\n",
       "      <td>215.634522</td>\n",
       "      <td>0</td>\n",
       "      <td>11482.332360</td>\n",
       "      <td>1.318440e+08</td>\n",
       "      <td>85.658468</td>\n",
       "      <td>0.229877</td>\n",
       "      <td>True</td>\n",
       "    </tr>\n",
       "    <tr>\n",
       "      <th>1</th>\n",
       "      <td>chr9</td>\n",
       "      <td>99075179</td>\n",
       "      <td>99075797</td>\n",
       "      <td>TGFBR1|chr9:101837461-101838079:.</td>\n",
       "      <td>chr9</td>\n",
       "      <td>99104038.0</td>\n",
       "      <td>99104039.0</td>\n",
       "      <td>TGFBR1</td>\n",
       "      <td>2f957f7a</td>\n",
       "      <td>K562</td>\n",
       "      <td>...</td>\n",
       "      <td>18.483246</td>\n",
       "      <td>0.798897</td>\n",
       "      <td>98</td>\n",
       "      <td>1196.610723</td>\n",
       "      <td>0</td>\n",
       "      <td>1833.345234</td>\n",
       "      <td>3.361155e+06</td>\n",
       "      <td>341.630383</td>\n",
       "      <td>0.044430</td>\n",
       "      <td>True</td>\n",
       "    </tr>\n",
       "    <tr>\n",
       "      <th>2</th>\n",
       "      <td>chr7</td>\n",
       "      <td>134639833</td>\n",
       "      <td>134640333</td>\n",
       "      <td>BPGM|chr7:134324585-134325085:.</td>\n",
       "      <td>chr7</td>\n",
       "      <td>134646808.0</td>\n",
       "      <td>134646809.0</td>\n",
       "      <td>BPGM</td>\n",
       "      <td>2f957f7a</td>\n",
       "      <td>K562</td>\n",
       "      <td>...</td>\n",
       "      <td>6.521952</td>\n",
       "      <td>0.992838</td>\n",
       "      <td>48</td>\n",
       "      <td>65.289744</td>\n",
       "      <td>0</td>\n",
       "      <td>10744.950360</td>\n",
       "      <td>1.154540e+08</td>\n",
       "      <td>42.535858</td>\n",
       "      <td>0.053048</td>\n",
       "      <td>True</td>\n",
       "    </tr>\n",
       "    <tr>\n",
       "      <th>3</th>\n",
       "      <td>chr10</td>\n",
       "      <td>5472235</td>\n",
       "      <td>5472735</td>\n",
       "      <td>NET1|chr10:5514198-5514698:.</td>\n",
       "      <td>chr10</td>\n",
       "      <td>5412551.0</td>\n",
       "      <td>5412552.0</td>\n",
       "      <td>NET1</td>\n",
       "      <td>2f957f7a</td>\n",
       "      <td>K562</td>\n",
       "      <td>...</td>\n",
       "      <td>2.925616</td>\n",
       "      <td>0.755541</td>\n",
       "      <td>33</td>\n",
       "      <td>94.653009</td>\n",
       "      <td>0</td>\n",
       "      <td>1419.128316</td>\n",
       "      <td>2.013925e+06</td>\n",
       "      <td>8.559229</td>\n",
       "      <td>0.004903</td>\n",
       "      <td>True</td>\n",
       "    </tr>\n",
       "    <tr>\n",
       "      <th>4</th>\n",
       "      <td>chr4</td>\n",
       "      <td>55723369</td>\n",
       "      <td>55723869</td>\n",
       "      <td>NMU|chr4:56589536-56590036:.</td>\n",
       "      <td>chr4</td>\n",
       "      <td>55636697.0</td>\n",
       "      <td>55636698.0</td>\n",
       "      <td>NMU</td>\n",
       "      <td>2f957f7a</td>\n",
       "      <td>K562</td>\n",
       "      <td>...</td>\n",
       "      <td>0.979523</td>\n",
       "      <td>0.598229</td>\n",
       "      <td>29</td>\n",
       "      <td>21.614425</td>\n",
       "      <td>0</td>\n",
       "      <td>793.318224</td>\n",
       "      <td>6.293538e+05</td>\n",
       "      <td>0.959465</td>\n",
       "      <td>0.001483</td>\n",
       "      <td>True</td>\n",
       "    </tr>\n",
       "  </tbody>\n",
       "</table>\n",
       "<p>5 rows × 26 columns</p>\n",
       "</div>"
      ],
      "text/plain": [
       "     chr      start        end                               name chrTSS  \\\n",
       "0   chr8   60284882   60285382       CA8|chr8:61197441-61197941:.   chr8   \n",
       "1   chr9   99075179   99075797  TGFBR1|chr9:101837461-101838079:.   chr9   \n",
       "2   chr7  134639833  134640333    BPGM|chr7:134324585-134325085:.   chr7   \n",
       "3  chr10    5472235    5472735       NET1|chr10:5514198-5514698:.  chr10   \n",
       "4   chr4   55723369   55723869       NMU|chr4:56589536-56590036:.   chr4   \n",
       "\n",
       "      startTSS       endTSS TargetGene ReferenceID CellType  ...  \\\n",
       "0   60281411.0   60281412.0        CA8    2f957f7a     K562  ...   \n",
       "1   99104038.0   99104039.0     TGFBR1    2f957f7a     K562  ...   \n",
       "2  134646808.0  134646809.0       BPGM    2f957f7a     K562  ...   \n",
       "3    5412551.0    5412552.0       NET1    2f957f7a     K562  ...   \n",
       "4   55636697.0   55636698.0        NMU    2f957f7a     K562  ...   \n",
       "\n",
       "   normalizedDNase_enh  normalizedDNase_prom  numNearbyEnhancers  \\\n",
       "0             9.255186              0.691692                  46   \n",
       "1            18.483246              0.798897                  98   \n",
       "2             6.521952              0.992838                  48   \n",
       "3             2.925616              0.755541                  33   \n",
       "4             0.979523              0.598229                  29   \n",
       "\n",
       "   sumNearbyEnhancers  ubiquitousExpressedGene     3DContact  \\\n",
       "0          215.634522                        0  11482.332360   \n",
       "1         1196.610723                        0   1833.345234   \n",
       "2           65.289744                        0  10744.950360   \n",
       "3           94.653009                        0   1419.128316   \n",
       "4           21.614425                        0    793.318224   \n",
       "\n",
       "   3DContact_squared  normalizedDNase_enh_squared  ABC.Score  Regulated  \n",
       "0       1.318440e+08                    85.658468   0.229877       True  \n",
       "1       3.361155e+06                   341.630383   0.044430       True  \n",
       "2       1.154540e+08                    42.535858   0.053048       True  \n",
       "3       2.013925e+06                     8.559229   0.004903       True  \n",
       "4       6.293538e+05                     0.959465   0.001483       True  \n",
       "\n",
       "[5 rows x 26 columns]"
      ]
     },
     "execution_count": 10,
     "metadata": {},
     "output_type": "execute_result"
    }
   ],
   "source": [
    "raw_data_cleaned.head()"
   ]
  },
  {
   "cell_type": "markdown",
   "metadata": {},
   "source": [
    "### extract number from \"chr\" and \"chrTSS\""
   ]
  },
  {
   "cell_type": "code",
   "execution_count": 11,
   "metadata": {},
   "outputs": [],
   "source": [
    "raw_data_cleaned[\"chr_cleaned\"] = [string[3:] for string in raw_data_cleaned[\"chr\"]]\n",
    "raw_data_cleaned[\"chrTSS_cleaned\"] = [string[3:] for string in raw_data_cleaned[\"chrTSS\"]]"
   ]
  },
  {
   "cell_type": "code",
   "execution_count": 12,
   "metadata": {},
   "outputs": [],
   "source": [
    "raw_data_cleaned = raw_data_cleaned.drop('chr', axis=1)\n",
    "raw_data_cleaned = raw_data_cleaned.drop('chrTSS', axis=1)"
   ]
  },
  {
   "cell_type": "code",
   "execution_count": 13,
   "metadata": {},
   "outputs": [],
   "source": [
    "raw_data_cleaned['chr_cleaned'] = pd.to_numeric(raw_data_cleaned['chr_cleaned'], errors='coerce')\n",
    "raw_data_cleaned['chr_cleaned'] = raw_data_cleaned['chr_cleaned'].fillna(0)"
   ]
  },
  {
   "cell_type": "code",
   "execution_count": 14,
   "metadata": {},
   "outputs": [],
   "source": [
    "raw_data_cleaned['chrTSS_cleaned'] = pd.to_numeric(raw_data_cleaned['chrTSS_cleaned'], errors='coerce')\n",
    "raw_data_cleaned['chrTSS_cleaned'] = raw_data_cleaned['chrTSS_cleaned'].fillna(0)"
   ]
  },
  {
   "cell_type": "markdown",
   "metadata": {},
   "source": [
    "### one hot encode \"TargetGene\""
   ]
  },
  {
   "cell_type": "code",
   "execution_count": 15,
   "metadata": {},
   "outputs": [],
   "source": [
    "one_hot_encoded_target_gene = pd.get_dummies(raw_data_cleaned, columns = ['TargetGene'])\n",
    "one_hot_encoded_target_gene[\"TargetGene\"] = raw_data_cleaned[\"TargetGene\"]\n",
    "raw_data_cleaned = one_hot_encoded_target_gene.copy()"
   ]
  },
  {
   "cell_type": "code",
   "execution_count": 16,
   "metadata": {},
   "outputs": [],
   "source": [
    "raw_data_cleaned = raw_data_cleaned.drop('TargetGene', axis=1)"
   ]
  },
  {
   "cell_type": "markdown",
   "metadata": {},
   "source": [
    "### one hot encode \"ReferenceID\""
   ]
  },
  {
   "cell_type": "code",
   "execution_count": 17,
   "metadata": {},
   "outputs": [],
   "source": [
    "one_hot_encoded_reference = pd.get_dummies(raw_data_cleaned, columns = ['ReferenceID'])\n",
    "one_hot_encoded_reference[\"ReferenceID\"] = raw_data_cleaned[\"ReferenceID\"]\n",
    "raw_data_cleaned = one_hot_encoded_reference.copy()"
   ]
  },
  {
   "cell_type": "code",
   "execution_count": 18,
   "metadata": {},
   "outputs": [],
   "source": [
    "raw_data_cleaned = raw_data_cleaned.drop('ReferenceID', axis=1)"
   ]
  },
  {
   "cell_type": "code",
   "execution_count": 19,
   "metadata": {
    "scrolled": true
   },
   "outputs": [
    {
     "data": {
      "text/html": [
       "<div>\n",
       "<style scoped>\n",
       "    .dataframe tbody tr th:only-of-type {\n",
       "        vertical-align: middle;\n",
       "    }\n",
       "\n",
       "    .dataframe tbody tr th {\n",
       "        vertical-align: top;\n",
       "    }\n",
       "\n",
       "    .dataframe thead th {\n",
       "        text-align: right;\n",
       "    }\n",
       "</style>\n",
       "<table border=\"1\" class=\"dataframe\">\n",
       "  <thead>\n",
       "    <tr style=\"text-align: right;\">\n",
       "      <th></th>\n",
       "      <th>start</th>\n",
       "      <th>end</th>\n",
       "      <th>name</th>\n",
       "      <th>startTSS</th>\n",
       "      <th>endTSS</th>\n",
       "      <th>CellType</th>\n",
       "      <th>EffectSize</th>\n",
       "      <th>pValueAdjusted</th>\n",
       "      <th>Significant</th>\n",
       "      <th>distanceToTSS</th>\n",
       "      <th>...</th>\n",
       "      <th>TargetGene_ZNRD1</th>\n",
       "      <th>ReferenceID_0c4fc18d</th>\n",
       "      <th>ReferenceID_2f957f7a</th>\n",
       "      <th>ReferenceID_33564e49</th>\n",
       "      <th>ReferenceID_39b33148</th>\n",
       "      <th>ReferenceID_40e27e78</th>\n",
       "      <th>ReferenceID_8229577f</th>\n",
       "      <th>ReferenceID_a2f90cf9</th>\n",
       "      <th>ReferenceID_ac8d234e</th>\n",
       "      <th>ReferenceID_ebda246b</th>\n",
       "    </tr>\n",
       "  </thead>\n",
       "  <tbody>\n",
       "    <tr>\n",
       "      <th>0</th>\n",
       "      <td>60284882</td>\n",
       "      <td>60285382</td>\n",
       "      <td>CA8|chr8:61197441-61197941:.</td>\n",
       "      <td>60281411.0</td>\n",
       "      <td>60281412.0</td>\n",
       "      <td>K562</td>\n",
       "      <td>-0.140258</td>\n",
       "      <td>0.000002</td>\n",
       "      <td>True</td>\n",
       "      <td>3767.5</td>\n",
       "      <td>...</td>\n",
       "      <td>0</td>\n",
       "      <td>0</td>\n",
       "      <td>1</td>\n",
       "      <td>0</td>\n",
       "      <td>0</td>\n",
       "      <td>0</td>\n",
       "      <td>0</td>\n",
       "      <td>0</td>\n",
       "      <td>0</td>\n",
       "      <td>0</td>\n",
       "    </tr>\n",
       "    <tr>\n",
       "      <th>1</th>\n",
       "      <td>99075179</td>\n",
       "      <td>99075797</td>\n",
       "      <td>TGFBR1|chr9:101837461-101838079:.</td>\n",
       "      <td>99104038.0</td>\n",
       "      <td>99104039.0</td>\n",
       "      <td>K562</td>\n",
       "      <td>-0.046138</td>\n",
       "      <td>0.004870</td>\n",
       "      <td>True</td>\n",
       "      <td>29655.5</td>\n",
       "      <td>...</td>\n",
       "      <td>0</td>\n",
       "      <td>0</td>\n",
       "      <td>1</td>\n",
       "      <td>0</td>\n",
       "      <td>0</td>\n",
       "      <td>0</td>\n",
       "      <td>0</td>\n",
       "      <td>0</td>\n",
       "      <td>0</td>\n",
       "      <td>0</td>\n",
       "    </tr>\n",
       "    <tr>\n",
       "      <th>2</th>\n",
       "      <td>134639833</td>\n",
       "      <td>134640333</td>\n",
       "      <td>BPGM|chr7:134324585-134325085:.</td>\n",
       "      <td>134646808.0</td>\n",
       "      <td>134646809.0</td>\n",
       "      <td>K562</td>\n",
       "      <td>-0.082180</td>\n",
       "      <td>0.007175</td>\n",
       "      <td>True</td>\n",
       "      <td>6687.0</td>\n",
       "      <td>...</td>\n",
       "      <td>0</td>\n",
       "      <td>0</td>\n",
       "      <td>1</td>\n",
       "      <td>0</td>\n",
       "      <td>0</td>\n",
       "      <td>0</td>\n",
       "      <td>0</td>\n",
       "      <td>0</td>\n",
       "      <td>0</td>\n",
       "      <td>0</td>\n",
       "    </tr>\n",
       "    <tr>\n",
       "      <th>3</th>\n",
       "      <td>5472235</td>\n",
       "      <td>5472735</td>\n",
       "      <td>NET1|chr10:5514198-5514698:.</td>\n",
       "      <td>5412551.0</td>\n",
       "      <td>5412552.0</td>\n",
       "      <td>K562</td>\n",
       "      <td>-0.100327</td>\n",
       "      <td>0.040277</td>\n",
       "      <td>True</td>\n",
       "      <td>25935.0</td>\n",
       "      <td>...</td>\n",
       "      <td>0</td>\n",
       "      <td>0</td>\n",
       "      <td>1</td>\n",
       "      <td>0</td>\n",
       "      <td>0</td>\n",
       "      <td>0</td>\n",
       "      <td>0</td>\n",
       "      <td>0</td>\n",
       "      <td>0</td>\n",
       "      <td>0</td>\n",
       "    </tr>\n",
       "    <tr>\n",
       "      <th>4</th>\n",
       "      <td>55723369</td>\n",
       "      <td>55723869</td>\n",
       "      <td>NMU|chr4:56589536-56590036:.</td>\n",
       "      <td>55636697.0</td>\n",
       "      <td>55636698.0</td>\n",
       "      <td>K562</td>\n",
       "      <td>-0.163492</td>\n",
       "      <td>0.000011</td>\n",
       "      <td>True</td>\n",
       "      <td>87281.0</td>\n",
       "      <td>...</td>\n",
       "      <td>0</td>\n",
       "      <td>0</td>\n",
       "      <td>1</td>\n",
       "      <td>0</td>\n",
       "      <td>0</td>\n",
       "      <td>0</td>\n",
       "      <td>0</td>\n",
       "      <td>0</td>\n",
       "      <td>0</td>\n",
       "      <td>0</td>\n",
       "    </tr>\n",
       "  </tbody>\n",
       "</table>\n",
       "<p>5 rows × 1996 columns</p>\n",
       "</div>"
      ],
      "text/plain": [
       "       start        end                               name     startTSS  \\\n",
       "0   60284882   60285382       CA8|chr8:61197441-61197941:.   60281411.0   \n",
       "1   99075179   99075797  TGFBR1|chr9:101837461-101838079:.   99104038.0   \n",
       "2  134639833  134640333    BPGM|chr7:134324585-134325085:.  134646808.0   \n",
       "3    5472235    5472735       NET1|chr10:5514198-5514698:.    5412551.0   \n",
       "4   55723369   55723869       NMU|chr4:56589536-56590036:.   55636697.0   \n",
       "\n",
       "        endTSS CellType  EffectSize  pValueAdjusted  Significant  \\\n",
       "0   60281412.0     K562   -0.140258        0.000002         True   \n",
       "1   99104039.0     K562   -0.046138        0.004870         True   \n",
       "2  134646809.0     K562   -0.082180        0.007175         True   \n",
       "3    5412552.0     K562   -0.100327        0.040277         True   \n",
       "4   55636698.0     K562   -0.163492        0.000011         True   \n",
       "\n",
       "   distanceToTSS  ...  TargetGene_ZNRD1  ReferenceID_0c4fc18d  \\\n",
       "0         3767.5  ...                 0                     0   \n",
       "1        29655.5  ...                 0                     0   \n",
       "2         6687.0  ...                 0                     0   \n",
       "3        25935.0  ...                 0                     0   \n",
       "4        87281.0  ...                 0                     0   \n",
       "\n",
       "   ReferenceID_2f957f7a  ReferenceID_33564e49  ReferenceID_39b33148  \\\n",
       "0                     1                     0                     0   \n",
       "1                     1                     0                     0   \n",
       "2                     1                     0                     0   \n",
       "3                     1                     0                     0   \n",
       "4                     1                     0                     0   \n",
       "\n",
       "   ReferenceID_40e27e78  ReferenceID_8229577f  ReferenceID_a2f90cf9  \\\n",
       "0                     0                     0                     0   \n",
       "1                     0                     0                     0   \n",
       "2                     0                     0                     0   \n",
       "3                     0                     0                     0   \n",
       "4                     0                     0                     0   \n",
       "\n",
       "   ReferenceID_ac8d234e  ReferenceID_ebda246b  \n",
       "0                     0                     0  \n",
       "1                     0                     0  \n",
       "2                     0                     0  \n",
       "3                     0                     0  \n",
       "4                     0                     0  \n",
       "\n",
       "[5 rows x 1996 columns]"
      ]
     },
     "execution_count": 19,
     "metadata": {},
     "output_type": "execute_result"
    }
   ],
   "source": [
    "raw_data_cleaned.head(5)"
   ]
  },
  {
   "cell_type": "markdown",
   "metadata": {},
   "source": [
    "## Train-Test Split"
   ]
  },
  {
   "cell_type": "code",
   "execution_count": 20,
   "metadata": {},
   "outputs": [],
   "source": [
    "raw_data_cleaned = raw_data_cleaned.drop('CellType', axis=1)\n",
    "raw_data_cleaned = raw_data_cleaned.drop('name', axis=1)"
   ]
  },
  {
   "cell_type": "code",
   "execution_count": 21,
   "metadata": {},
   "outputs": [],
   "source": [
    "#import sklearn to split the data\n",
    "from sklearn.model_selection import train_test_split"
   ]
  },
  {
   "cell_type": "code",
   "execution_count": 22,
   "metadata": {},
   "outputs": [],
   "source": [
    "# Split into training data and the rest of the data (test + validation)\n",
    "# 70% training, 30% (test + validation)\n",
    "# stratified y variable to keep the proporiton of regulated to unregulated the same across each set\n",
    "train, other = train_test_split(raw_data_cleaned, test_size=0.4, stratify=raw_data_cleaned['Regulated'])\n"
   ]
  },
  {
   "cell_type": "code",
   "execution_count": 23,
   "metadata": {},
   "outputs": [],
   "source": [
    "# Split into test data and validation data\n",
    "# 15% test + 15% validation\n",
    "# stratified y variable to keep the proporiton of regulated to unregulated the same across each set\n",
    "test, val = train_test_split(other, test_size=0.5,stratify=other['Regulated'])"
   ]
  },
  {
   "cell_type": "markdown",
   "metadata": {},
   "source": [
    "## Baseline Models"
   ]
  },
  {
   "cell_type": "code",
   "execution_count": 24,
   "metadata": {},
   "outputs": [],
   "source": [
    "from sklearn.linear_model import LogisticRegression\n",
    "model = LogisticRegression()"
   ]
  },
  {
   "cell_type": "code",
   "execution_count": 25,
   "metadata": {},
   "outputs": [
    {
     "data": {
      "text/plain": [
       "LogisticRegression()"
      ]
     },
     "execution_count": 25,
     "metadata": {},
     "output_type": "execute_result"
    }
   ],
   "source": [
    "X_train = train.drop('Regulated', axis=1)\n",
    "y_train = train['Regulated']\n",
    "model.fit(X_train, y_train)"
   ]
  },
  {
   "cell_type": "code",
   "execution_count": 26,
   "metadata": {
    "scrolled": true
   },
   "outputs": [
    {
     "name": "stdout",
     "output_type": "stream",
     "text": [
      "Testing Accuracy: 0.9550898203592815\n"
     ]
    }
   ],
   "source": [
    "from sklearn.metrics import classification_report, accuracy_score, roc_auc_score\n",
    "\n",
    "X_test = test.drop('Regulated', axis=1)\n",
    "y_test = test['Regulated']\n",
    "\n",
    "y_pred_test = model.predict(X_test)\n",
    "\n",
    "print(\"Testing Accuracy:\", accuracy_score(y_test, y_pred_test))"
   ]
  },
  {
   "cell_type": "code",
   "execution_count": 27,
   "metadata": {},
   "outputs": [
    {
     "data": {
      "image/png": "[encoded data removed]",
      "text/plain": [
       "<Figure size 576x432 with 2 Axes>"
      ]
     },
     "metadata": {
      "needs_background": "light"
     },
     "output_type": "display_data"
    }
   ],
   "source": [
    "from sklearn.metrics import confusion_matrix\n",
    "import matplotlib.pyplot as plt\n",
    "import seaborn as sns\n",
    "matrix = confusion_matrix(y_test, y_pred_test)\n",
    "plt.figure(figsize=(8, 6))\n",
    "sns.heatmap(matrix, annot=True, fmt=\"d\",)  \n",
    "plt.xlabel('Predicted')\n",
    "plt.ylabel('Real')\n",
    "plt.title('Test Confusion Matrix')\n",
    "plt.show()"
   ]
  },
  {
   "cell_type": "code",
   "execution_count": 28,
   "metadata": {},
   "outputs": [
    {
     "name": "stdout",
     "output_type": "stream",
     "text": [
      "Validation Accuracy: 0.9598802395209581\n"
     ]
    }
   ],
   "source": [
    "X_val = val.drop('Regulated', axis=1)\n",
    "y_val = val['Regulated']\n",
    "\n",
    "y_pred_val = model.predict(X_val)\n",
    "\n",
    "print(\"Validation Accuracy:\", accuracy_score(y_val, y_pred_val))"
   ]
  },
  {
   "cell_type": "code",
   "execution_count": 29,
   "metadata": {},
   "outputs": [
    {
     "data": {
      "image/png": "[encoded data removed]",
      "text/plain": [
       "<Figure size 576x432 with 2 Axes>"
      ]
     },
     "metadata": {
      "needs_background": "light"
     },
     "output_type": "display_data"
    }
   ],
   "source": [
    "from sklearn.metrics import confusion_matrix\n",
    "import matplotlib.pyplot as plt\n",
    "import seaborn as sns\n",
    "matrix = confusion_matrix(y_val, y_pred_val)\n",
    "plt.figure(figsize=(8, 6))\n",
    "sns.heatmap(matrix, annot=True, fmt=\"d\",)  \n",
    "plt.xlabel('Predicted')\n",
    "plt.ylabel('Real')\n",
    "plt.title('Validation Confusion Matrix')\n",
    "plt.show()"
   ]
  },
  {
   "cell_type": "code",
   "execution_count": null,
   "metadata": {},
   "outputs": [],
   "source": []
  }
 ],
 "metadata": {
  "kernelspec": {
   "display_name": "Python 3",
   "language": "python",
   "name": "python3"
  },
  "language_info": {
   "codemirror_mode": {
    "name": "ipython",
    "version": 3
   },
   "file_extension": ".py",
   "mimetype": "text/x-python",
   "name": "python",
   "nbconvert_exporter": "python",
   "pygments_lexer": "ipython3",
   "version": "3.8.5"
  }
 },
 "nbformat": 4,
 "nbformat_minor": 5
}
